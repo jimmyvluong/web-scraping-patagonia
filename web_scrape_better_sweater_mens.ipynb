{
 "cells": [
  {
   "cell_type": "code",
   "execution_count": 1,
   "id": "unlimited-organization",
   "metadata": {},
   "outputs": [
    {
     "name": "stdout",
     "output_type": "stream",
     "text": [
      "product_id: 49378\n",
      "product_name: Black Hole® Wheeled Duffel 40L\n",
      "product_price: \n",
      "product_id: 49342\n",
      "product_name: Black Hole® Duffel 55L\n",
      "product_price: \n",
      "product_id: 49347\n",
      "product_name: Black Hole® Duffel 70L\n",
      "product_price: \n",
      "product_id: 49338\n",
      "product_name: Black Hole® Duffel 40L\n",
      "product_price: \n",
      "product_id: 49352\n",
      "product_name: Black Hole® Duffel 100L\n",
      "product_price: \n",
      "product_id: 49381\n",
      "product_name: Black Hole® Wheeled Duffel 70L\n",
      "product_price: \n",
      "product_id: 49387\n",
      "product_name: Black Hole® Wheeled Duffel 100L\n",
      "product_price: \n"
     ]
    }
   ],
   "source": [
    "# webscraping tutorial\n",
    "# ctrl+z exits to regular command line\n",
    "# https://www.youtube.com/watch?v=XQgXKtPSzUI\n",
    "\n",
    "# urllib is going to grab the web page\n",
    "from urllib.request import urlopen as uReq\n",
    "\n",
    "# BeautifulSoup is going to parse the HTML text\n",
    "from bs4 import BeautifulSoup as soup\n",
    "\n",
    "# Save your URL to a variable\n",
    "my_url = 'https://eu.patagonia.com/gb/en/shop/black-hole-duffel-bags'\n",
    "# Call the function 'URL open' inside of a module called 'request' inside of a package called 'URL lib'\n",
    "# Opening up connection, grabbing the page\n",
    "uClient = uReq(my_url)\n",
    "\n",
    "# Assign it to variable because once it reads it dumps the page\n",
    "page_html = uClient.read()\n",
    "# Close the client\n",
    "uClient.close()\n",
    "\n",
    "# Now to parse the HTML. This does the html parsing.\n",
    "page_soup = soup(page_html, \"html.parser\")\n",
    "\n",
    "# Take a look around\n",
    "page_soup.h1 # Looks at header\n",
    "page_soup.p # Looks at p type?\n",
    "\n",
    "# Grabs each product\n",
    "containers = page_soup.findAll(\"div\", {\"class\":\"product-tile__wrapper col-6 col-lg-6 col-xl-4 col-xxxxl-3\"})\n",
    "\n",
    "filename = \"patagonia_products.csv\"\n",
    "f = open(filename, \"w\")\n",
    "\n",
    "headers = \"product_id, product_name, product_price\\n\"\n",
    "\n",
    "f.write(headers)\n",
    "#container = containers[4]\n",
    "#container.div.div.a\n",
    "for container in containers:\n",
    "\n",
    "\tproduct_id = container.div[\"data-pid\"]\n",
    "\t\n",
    "\tname_container = container.findAll(\"h4\", {\"class\":\"product-tile__name\"})\n",
    "    \n",
    "\tproduct_name = name_container[0].text\n",
    "\t\n",
    "\tprice_container = container.findAll(\"span\",{\"class\":\"value\"})\n",
    "\tprice = price_container[0].text.strip()\n",
    "\n",
    "\tprint(\"product_id: \" + product_id)\n",
    "\tprint(\"product_name: \" + product_name)\n",
    "\tprint(\"product_price: \" + price)\n",
    "\n",
    "\tf.write(product_id + \",\" + product_name.replace(\"®\", \"\") + \",\" + price + \"\\n\")\n",
    "#product_name.replace(\",\", \"|\")\n",
    "f.close()"
   ]
  },
  {
   "cell_type": "code",
   "execution_count": 140,
   "id": "creative-clearance",
   "metadata": {},
   "outputs": [],
   "source": [
    "# urllib is going to grab the web page\n",
    "from urllib.request import urlopen as uReq\n",
    "\n",
    "# BeautifulSoup is going to parse the HTML text\n",
    "from bs4 import BeautifulSoup as soup\n",
    "\n",
    "# Save your URL to a variable\n",
    "my_url = 'https://www.patagonia.com/reviews/view-all-reviews/?productid=25528&PDPScrollPos=8915'\n",
    "# Call the function 'URL open' inside of a module called 'request' inside of a package called 'URL lib'\n",
    "# Opening up connection, grabbing the page\n",
    "uClient = uReq(my_url)\n",
    "\n",
    "# Assign it to variable because once it reads it dumps the page\n",
    "page_html = uClient.read()\n",
    "uClient.close()\n",
    "\n",
    "# Now to parse the HTML\n",
    "page_soup = soup(page_html, \"html.parser\")"
   ]
  },
  {
   "cell_type": "code",
   "execution_count": 12,
   "id": "protected-initial",
   "metadata": {},
   "outputs": [],
   "source": [
    "# <div class=\"reviews__review-content\">\n",
    "# this tells me that the class that I'm looking for is \"reviews__review_content\""
   ]
  },
  {
   "cell_type": "code",
   "execution_count": 141,
   "id": "sharing-bradley",
   "metadata": {},
   "outputs": [],
   "source": [
    "# find all classes that contain reviews\n",
    "containers = page_soup.findAll(\"div\", {\"class\":\"reviews__review-content\"})"
   ]
  },
  {
   "cell_type": "code",
   "execution_count": 142,
   "id": "constant-niagara",
   "metadata": {},
   "outputs": [
    {
     "data": {
      "text/plain": [
       "489"
      ]
     },
     "execution_count": 142,
     "metadata": {},
     "output_type": "execute_result"
    }
   ],
   "source": [
    "# check how many containers (in this case, reviews) you grabbed\n",
    "len(containers)"
   ]
  },
  {
   "cell_type": "code",
   "execution_count": 143,
   "id": "italian-swift",
   "metadata": {},
   "outputs": [
    {
     "data": {
      "text/plain": [
       "<div class=\"reviews__review-content\">\n",
       "<header class=\"reviews__review-content--header\">\n",
       "<span class=\"reviews__review-content--stars-container\">\n",
       "<span class=\"reviews__stars reviews__review-score\" data-review-score=\"5\">\n",
       "<ul>\n",
       "<li><figure class=\"icon icon--rating-star-filled\"><svg><use href=\"#icon--rating-star-filled\"></use></svg></figure></li>\n",
       "<li><figure class=\"icon icon--rating-star-filled\"><svg><use href=\"#icon--rating-star-filled\"></use></svg></figure></li>\n",
       "<li><figure class=\"icon icon--rating-star-filled\"><svg><use href=\"#icon--rating-star-filled\"></use></svg></figure></li>\n",
       "<li><figure class=\"icon icon--rating-star-filled\"><svg><use href=\"#icon--rating-star-filled\"></use></svg></figure></li>\n",
       "<li><figure class=\"icon icon--rating-star-filled\"><svg><use href=\"#icon--rating-star-filled\"></use></svg></figure></li>\n",
       "</ul>\n",
       "</span>\n",
       "</span>\n",
       "<small class=\"reviews__review-content--header-date\">\n",
       "July 2, 2021\n",
       "</small>\n",
       "</header>\n",
       "<div class=\"reviews__review-content--body\">\n",
       "<h3 class=\"reviews__review--title\">Super comfortable, warm, and looks great!</h3>\n",
       "<p class=\"reviews__review--text\">\n",
       "<span class=\"review-text-js\">Purchased to have a nicer looking zip up sweater and am so impressed by the quality. Keep it up Patagonia!</span>\n",
       "</p>\n",
       "</div>\n",
       "<div class=\"reviews__review-content__votes\">\n",
       "<a class=\"reviews__review-content__votes-up\" data-id=\"272422658\">\n",
       "<figure class=\"icon icon--happy-face\">\n",
       "<svg><use href=\"#icon--happy-face\"></use></svg>\n",
       "</figure>\n",
       "<span>0</span>\n",
       "</a>\n",
       "<a class=\"reviews__review-content__votes-down\" data-id=\"272422658\">\n",
       "<figure class=\"icon icon--sad-face\">\n",
       "<svg><use href=\"#icon--sad-face\"></use></svg>\n",
       "</figure>\n",
       "<span>0</span>\n",
       "</a>\n",
       "</div>\n",
       "</div>"
      ]
     },
     "execution_count": 143,
     "metadata": {},
     "output_type": "execute_result"
    }
   ],
   "source": [
    "# look at the first review\n",
    "containers[0]"
   ]
  },
  {
   "cell_type": "code",
   "execution_count": 18,
   "id": "paperback-station",
   "metadata": {},
   "outputs": [],
   "source": [
    "# CTRL+SHIFT+P in sublime editor to open up the command prompt"
   ]
  },
  {
   "cell_type": "code",
   "execution_count": 19,
   "id": "mighty-graphics",
   "metadata": {},
   "outputs": [],
   "source": [
    "# Use JS Beautifier to format it into spaced out HTML\n",
    "# https://beautifier.io/"
   ]
  },
  {
   "cell_type": "code",
   "execution_count": 145,
   "id": "promising-indianapolis",
   "metadata": {},
   "outputs": [],
   "source": [
    "container = containers[0]"
   ]
  },
  {
   "cell_type": "code",
   "execution_count": 146,
   "id": "amended-cleaning",
   "metadata": {},
   "outputs": [
    {
     "data": {
      "text/plain": [
       "'5'"
      ]
     },
     "execution_count": 146,
     "metadata": {},
     "output_type": "execute_result"
    }
   ],
   "source": [
    "# grab the review score\n",
    "container.header.span.span[\"data-review-score\"]"
   ]
  },
  {
   "cell_type": "code",
   "execution_count": 87,
   "id": "seven-finance",
   "metadata": {},
   "outputs": [
    {
     "data": {
      "text/plain": [
       "<span class=\"reviews__stars reviews__review-score\" data-review-score=\"5\">\n",
       "<ul>\n",
       "<li><figure class=\"icon icon--rating-star-filled\"><svg><use href=\"#icon--rating-star-filled\"></use></svg></figure></li>\n",
       "<li><figure class=\"icon icon--rating-star-filled\"><svg><use href=\"#icon--rating-star-filled\"></use></svg></figure></li>\n",
       "<li><figure class=\"icon icon--rating-star-filled\"><svg><use href=\"#icon--rating-star-filled\"></use></svg></figure></li>\n",
       "<li><figure class=\"icon icon--rating-star-filled\"><svg><use href=\"#icon--rating-star-filled\"></use></svg></figure></li>\n",
       "<li><figure class=\"icon icon--rating-star-filled\"><svg><use href=\"#icon--rating-star-filled\"></use></svg></figure></li>\n",
       "</ul>\n",
       "</span>"
      ]
     },
     "execution_count": 87,
     "metadata": {},
     "output_type": "execute_result"
    }
   ],
   "source": [
    "container.header.span.span"
   ]
  },
  {
   "cell_type": "code",
   "execution_count": 88,
   "id": "tracked-following",
   "metadata": {},
   "outputs": [
    {
     "data": {
      "text/plain": [
       "<small class=\"reviews__review-content--header-date\">\n",
       "July 2, 2021\n",
       "</small>"
      ]
     },
     "execution_count": 88,
     "metadata": {},
     "output_type": "execute_result"
    }
   ],
   "source": [
    "container.header.small"
   ]
  },
  {
   "cell_type": "code",
   "execution_count": 94,
   "id": "adjusted-ceramic",
   "metadata": {},
   "outputs": [
    {
     "data": {
      "text/plain": [
       "'\\nJuly 2, 2021\\n'"
      ]
     },
     "execution_count": 94,
     "metadata": {},
     "output_type": "execute_result"
    }
   ],
   "source": [
    "container.header.small.text"
   ]
  },
  {
   "cell_type": "code",
   "execution_count": 54,
   "id": "mechanical-function",
   "metadata": {},
   "outputs": [
    {
     "data": {
      "text/plain": [
       "[<small class=\"reviews__review-content--header-date\">\n",
       " July 2, 2021\n",
       " </small>]"
      ]
     },
     "execution_count": 54,
     "metadata": {},
     "output_type": "execute_result"
    }
   ],
   "source": [
    "# grab the review date\n",
    "container.findAll(\"small\", {\"class\" : \"reviews__review-content--header-date\"})"
   ]
  },
  {
   "cell_type": "code",
   "execution_count": 91,
   "id": "impressive-induction",
   "metadata": {},
   "outputs": [],
   "source": [
    "date_container = container.findAll(\"small\", {\"class\" : \"reviews__review-content--header-date\"})"
   ]
  },
  {
   "cell_type": "code",
   "execution_count": 93,
   "id": "informal-subject",
   "metadata": {},
   "outputs": [
    {
     "data": {
      "text/plain": [
       "'\\nJuly 2, 2021\\n'"
      ]
     },
     "execution_count": 93,
     "metadata": {},
     "output_type": "execute_result"
    }
   ],
   "source": [
    "date_container[0].text"
   ]
  },
  {
   "cell_type": "code",
   "execution_count": 96,
   "id": "neither-utilization",
   "metadata": {},
   "outputs": [
    {
     "data": {
      "text/plain": [
       "'July 2, 2021'"
      ]
     },
     "execution_count": 96,
     "metadata": {},
     "output_type": "execute_result"
    }
   ],
   "source": [
    "date_container[0].text.strip()"
   ]
  },
  {
   "cell_type": "code",
   "execution_count": 79,
   "id": "minimal-greeting",
   "metadata": {},
   "outputs": [
    {
     "data": {
      "text/plain": [
       "<h3 class=\"reviews__review--title\">Super comfortable, warm, and looks great!</h3>"
      ]
     },
     "execution_count": 79,
     "metadata": {},
     "output_type": "execute_result"
    }
   ],
   "source": [
    "container.div.h3"
   ]
  },
  {
   "cell_type": "code",
   "execution_count": 82,
   "id": "advised-strengthening",
   "metadata": {},
   "outputs": [
    {
     "data": {
      "text/plain": [
       "'Super comfortable, warm, and looks great!'"
      ]
     },
     "execution_count": 82,
     "metadata": {},
     "output_type": "execute_result"
    }
   ],
   "source": [
    "# Grab the review title\n",
    "container.div.h3.text"
   ]
  },
  {
   "cell_type": "code",
   "execution_count": 95,
   "id": "graphic-cabin",
   "metadata": {},
   "outputs": [
    {
     "data": {
      "text/plain": [
       "'Purchased to have a nicer looking zip up sweater and am so impressed by the quality. Keep it up Patagonia!'"
      ]
     },
     "execution_count": 95,
     "metadata": {},
     "output_type": "execute_result"
    }
   ],
   "source": [
    "# Grab the review text content\n",
    "container.div.p.span.text"
   ]
  },
  {
   "cell_type": "code",
   "execution_count": 147,
   "id": "beautiful-renewal",
   "metadata": {},
   "outputs": [],
   "source": [
    "filename = \"mens_better_sweater_reviews.csv\""
   ]
  },
  {
   "cell_type": "code",
   "execution_count": 148,
   "id": "governmental-maryland",
   "metadata": {},
   "outputs": [],
   "source": [
    "f = open(filename, \"w\")"
   ]
  },
  {
   "cell_type": "code",
   "execution_count": 149,
   "id": "wicked-olive",
   "metadata": {},
   "outputs": [],
   "source": [
    "headers = \"review_score, date, review_title, review_text_content\\n\""
   ]
  },
  {
   "cell_type": "code",
   "execution_count": 150,
   "id": "irish-refund",
   "metadata": {},
   "outputs": [
    {
     "data": {
      "text/plain": [
       "54"
      ]
     },
     "execution_count": 150,
     "metadata": {},
     "output_type": "execute_result"
    }
   ],
   "source": [
    "f.write(headers)"
   ]
  },
  {
   "cell_type": "code",
   "execution_count": null,
   "id": "coordinate-research",
   "metadata": {},
   "outputs": [],
   "source": [
    "for container in containers:\n",
    "    review_score = container.header.span.span[\"data-review-score\"]\n",
    "    date = container.header.small.text.strip()\n",
    "    review_title = container.div.h3.text.strip()\n",
    "    review_text_content = container.div.p.span.text.strip()\n",
    "    \n",
    "    print(\"review_score:\" + review_score)\n",
    "    print(\"date:\" + date)\n",
    "    print(\"review_title:\" + review_title)\n",
    "    print(\"review_text_content:\" + review_text_content)\n",
    "    \n",
    "    f.write(review_score + \",\" + date.replace(\",\", \"|\") + \",\" + review_title.replace(\",\", \"|\") + \",\" + review_text_content.replace(\",\", \"|\") + \"\\n\")\n",
    "    \n",
    "f.close()"
   ]
  },
  {
   "cell_type": "markdown",
   "id": "intensive-prince",
   "metadata": {},
   "source": [
    "#### Next steps:\n",
    "1. Clean out the blank rows\n",
    "2. Get other fields\n",
    "3. Combine the files\n",
    "\n",
    "Add in extra fields:\n",
    "    1. The year from the data column. There may be seasonaility to consider. Do reviews change year-over-year?"
   ]
  },
  {
   "cell_type": "code",
   "execution_count": 153,
   "id": "leading-helen",
   "metadata": {},
   "outputs": [],
   "source": [
    "# find all classes that contain reviews\n",
    "containers_two = page_soup.findAll(\"aside\", {\"class\":\"reviews__review-author\"})"
   ]
  },
  {
   "cell_type": "code",
   "execution_count": 154,
   "id": "greatest-oakland",
   "metadata": {},
   "outputs": [
    {
     "data": {
      "text/plain": [
       "489"
      ]
     },
     "execution_count": 154,
     "metadata": {},
     "output_type": "execute_result"
    }
   ],
   "source": [
    "len(containers_two)"
   ]
  },
  {
   "cell_type": "code",
   "execution_count": 169,
   "id": "sorted-filter",
   "metadata": {},
   "outputs": [],
   "source": [
    "container_two = containers_two[0]"
   ]
  },
  {
   "cell_type": "code",
   "execution_count": 162,
   "id": "after-commodity",
   "metadata": {},
   "outputs": [
    {
     "data": {
      "text/plain": [
       "'Zachary'"
      ]
     },
     "execution_count": 162,
     "metadata": {},
     "output_type": "execute_result"
    }
   ],
   "source": [
    "name = container_two.header.div.strong.text"
   ]
  },
  {
   "cell_type": "code",
   "execution_count": 167,
   "id": "internal-sociology",
   "metadata": {},
   "outputs": [],
   "source": [
    "verified_buyer_tag = container_two.header.div.p.text"
   ]
  },
  {
   "cell_type": "code",
   "execution_count": 230,
   "id": "human-likelihood",
   "metadata": {},
   "outputs": [
    {
     "ename": "AttributeError",
     "evalue": "'NoneType' object has no attribute 'text'",
     "output_type": "error",
     "traceback": [
      "\u001b[0;31m---------------------------------------------------------------------------\u001b[0m",
      "\u001b[0;31mAttributeError\u001b[0m                            Traceback (most recent call last)",
      "\u001b[0;32m<ipython-input-230-0fae52e97ded>\u001b[0m in \u001b[0;36m<module>\u001b[0;34m\u001b[0m\n\u001b[0;32m----> 1\u001b[0;31m \u001b[0mcontainer_two\u001b[0m\u001b[0;34m.\u001b[0m\u001b[0mheader\u001b[0m\u001b[0;34m.\u001b[0m\u001b[0mdiv\u001b[0m\u001b[0;34m.\u001b[0m\u001b[0mp\u001b[0m\u001b[0;34m.\u001b[0m\u001b[0mtext\u001b[0m\u001b[0;34m\u001b[0m\u001b[0;34m\u001b[0m\u001b[0m\n\u001b[0m",
      "\u001b[0;31mAttributeError\u001b[0m: 'NoneType' object has no attribute 'text'"
     ]
    }
   ],
   "source": [
    "container_two.header.div.p.text"
   ]
  },
  {
   "cell_type": "code",
   "execution_count": 229,
   "id": "checked-genius",
   "metadata": {},
   "outputs": [
    {
     "data": {
      "text/plain": [
       "'Verified Buyer'"
      ]
     },
     "execution_count": 229,
     "metadata": {},
     "output_type": "execute_result"
    }
   ],
   "source": [
    "verified_buyer_tag"
   ]
  },
  {
   "cell_type": "code",
   "execution_count": 181,
   "id": "regional-savannah",
   "metadata": {},
   "outputs": [],
   "source": [
    "size = container_two.ul.li[\"data-size\"]"
   ]
  },
  {
   "cell_type": "code",
   "execution_count": 192,
   "id": "motivated-writer",
   "metadata": {},
   "outputs": [],
   "source": [
    "height_container = container_two.findAll(\"li\", {\"class\" : \"height-field\"})"
   ]
  },
  {
   "cell_type": "code",
   "execution_count": 207,
   "id": "known-white",
   "metadata": {},
   "outputs": [
    {
     "data": {
      "text/plain": [
       "\"Height: 6'1 - 6'3\""
      ]
     },
     "execution_count": 207,
     "metadata": {},
     "output_type": "execute_result"
    }
   ],
   "source": [
    "height_container[0].text"
   ]
  },
  {
   "cell_type": "code",
   "execution_count": 208,
   "id": "weekly-geology",
   "metadata": {},
   "outputs": [],
   "source": [
    "height = container_two.findAll(\"li\", {\"class\" : \"height-field\"})[0].text"
   ]
  },
  {
   "cell_type": "code",
   "execution_count": 209,
   "id": "collect-edinburgh",
   "metadata": {},
   "outputs": [
    {
     "data": {
      "text/plain": [
       "\"Height: 6'1 - 6'3\""
      ]
     },
     "execution_count": 209,
     "metadata": {},
     "output_type": "execute_result"
    }
   ],
   "source": [
    "height"
   ]
  },
  {
   "cell_type": "code",
   "execution_count": 215,
   "id": "eight-billy",
   "metadata": {},
   "outputs": [
    {
     "data": {
      "text/plain": [
       "'Used for: Casual Wear, Hiking, Work'"
      ]
     },
     "execution_count": 215,
     "metadata": {},
     "output_type": "execute_result"
    }
   ],
   "source": [
    "# activity-field\n",
    "container_two.findAll(\"li\", {\"class\" : \"activity-field\"})[0].text"
   ]
  },
  {
   "cell_type": "code",
   "execution_count": 182,
   "id": "cleared-subsection",
   "metadata": {},
   "outputs": [
    {
     "data": {
      "text/plain": [
       "<ul class=\"reviews__review-author--details\">\n",
       "<li class=\"size-field\" data-size=\"XL\"><strong>Size Purchased:</strong> XL</li>\n",
       "<li class=\"height-field\" data-height=\"6'1 - 6'3\"><strong>Height:</strong> 6'1 - 6'3</li>\n",
       "<li class=\"activity-field\" data-activity=\"Casual Wear, Hiking, Work\"><strong>Used for:</strong> Casual Wear, Hiking, Work</li>\n",
       "<li class=\"recommendation-field\" data-recommendation=\"Yes\"><strong>Likelihood to Recommend:</strong> Yes</li>\n",
       "</ul>"
      ]
     },
     "execution_count": 182,
     "metadata": {},
     "output_type": "execute_result"
    }
   ],
   "source": []
  },
  {
   "cell_type": "code",
   "execution_count": 217,
   "id": "divine-profit",
   "metadata": {},
   "outputs": [
    {
     "ename": "KeyError",
     "evalue": "'size-field'",
     "output_type": "error",
     "traceback": [
      "\u001b[0;31m---------------------------------------------------------------------------\u001b[0m",
      "\u001b[0;31mKeyError\u001b[0m                                  Traceback (most recent call last)",
      "\u001b[0;32m<ipython-input-217-508d701ffb62>\u001b[0m in \u001b[0;36m<module>\u001b[0;34m\u001b[0m\n\u001b[0;32m----> 1\u001b[0;31m \u001b[0mcontainer_two\u001b[0m\u001b[0;34m.\u001b[0m\u001b[0mul\u001b[0m\u001b[0;34m.\u001b[0m\u001b[0mli\u001b[0m\u001b[0;34m[\u001b[0m\u001b[0;34m\"size-field\"\u001b[0m\u001b[0;34m]\u001b[0m\u001b[0;34m\u001b[0m\u001b[0;34m\u001b[0m\u001b[0m\n\u001b[0m",
      "\u001b[0;32m~/opt/anaconda3/lib/python3.7/site-packages/bs4/element.py\u001b[0m in \u001b[0;36m__getitem__\u001b[0;34m(self, key)\u001b[0m\n\u001b[1;32m   1404\u001b[0m         \"\"\"tag[key] returns the value of the 'key' attribute for the Tag,\n\u001b[1;32m   1405\u001b[0m         and throws an exception if it's not there.\"\"\"\n\u001b[0;32m-> 1406\u001b[0;31m         \u001b[0;32mreturn\u001b[0m \u001b[0mself\u001b[0m\u001b[0;34m.\u001b[0m\u001b[0mattrs\u001b[0m\u001b[0;34m[\u001b[0m\u001b[0mkey\u001b[0m\u001b[0;34m]\u001b[0m\u001b[0;34m\u001b[0m\u001b[0;34m\u001b[0m\u001b[0m\n\u001b[0m\u001b[1;32m   1407\u001b[0m \u001b[0;34m\u001b[0m\u001b[0m\n\u001b[1;32m   1408\u001b[0m     \u001b[0;32mdef\u001b[0m \u001b[0m__iter__\u001b[0m\u001b[0;34m(\u001b[0m\u001b[0mself\u001b[0m\u001b[0;34m)\u001b[0m\u001b[0;34m:\u001b[0m\u001b[0;34m\u001b[0m\u001b[0;34m\u001b[0m\u001b[0m\n",
      "\u001b[0;31mKeyError\u001b[0m: 'size-field'"
     ]
    }
   ],
   "source": [
    "container_two.ul.li[\"size-field\"]"
   ]
  },
  {
   "cell_type": "code",
   "execution_count": 211,
   "id": "drawn-ceramic",
   "metadata": {},
   "outputs": [
    {
     "data": {
      "text/plain": [
       "'Likelihood to Recommend: Yes'"
      ]
     },
     "execution_count": 211,
     "metadata": {},
     "output_type": "execute_result"
    }
   ],
   "source": [
    "container_two.findAll(\"li\", {\"class\" : \"recommendation-field\"})[0].text"
   ]
  },
  {
   "cell_type": "code",
   "execution_count": 244,
   "id": "adjustable-progress",
   "metadata": {},
   "outputs": [],
   "source": [
    "filename = \"mens_better_sweater_reviewers.csv\""
   ]
  },
  {
   "cell_type": "code",
   "execution_count": 245,
   "id": "nutritional-awareness",
   "metadata": {},
   "outputs": [],
   "source": [
    "f = open(filename, \"w\")"
   ]
  },
  {
   "cell_type": "code",
   "execution_count": 246,
   "id": "false-occasion",
   "metadata": {},
   "outputs": [],
   "source": [
    "headers = \"name,verified_buyer_tag,size,height,activity,recommendation\\n\""
   ]
  },
  {
   "cell_type": "code",
   "execution_count": 247,
   "id": "actual-advocacy",
   "metadata": {},
   "outputs": [
    {
     "data": {
      "text/plain": [
       "60"
      ]
     },
     "execution_count": 247,
     "metadata": {},
     "output_type": "execute_result"
    }
   ],
   "source": [
    "f.write(headers)"
   ]
  },
  {
   "cell_type": "code",
   "execution_count": 249,
   "id": "further-brisbane",
   "metadata": {},
   "outputs": [
    {
     "ename": "ValueError",
     "evalue": "I/O operation on closed file.",
     "output_type": "error",
     "traceback": [
      "\u001b[0;31m---------------------------------------------------------------------------\u001b[0m",
      "\u001b[0;31mValueError\u001b[0m                                Traceback (most recent call last)",
      "\u001b[0;32m<ipython-input-249-ac21161cd18d>\u001b[0m in \u001b[0;36m<module>\u001b[0;34m\u001b[0m\n\u001b[1;32m     38\u001b[0m     \u001b[0;31m#print(\"recommendation:\" + recommendation)\u001b[0m\u001b[0;34m\u001b[0m\u001b[0;34m\u001b[0m\u001b[0;34m\u001b[0m\u001b[0m\n\u001b[1;32m     39\u001b[0m \u001b[0;34m\u001b[0m\u001b[0m\n\u001b[0;32m---> 40\u001b[0;31m     \u001b[0mf\u001b[0m\u001b[0;34m.\u001b[0m\u001b[0mwrite\u001b[0m\u001b[0;34m(\u001b[0m\u001b[0mname\u001b[0m \u001b[0;34m+\u001b[0m \u001b[0;34m\",\"\u001b[0m \u001b[0;34m+\u001b[0m \u001b[0mverified_buyer_tag\u001b[0m \u001b[0;34m+\u001b[0m \u001b[0;34m\",\"\u001b[0m \u001b[0;34m+\u001b[0m \u001b[0msize\u001b[0m \u001b[0;34m+\u001b[0m \u001b[0;34m\",\"\u001b[0m \u001b[0;34m+\u001b[0m \u001b[0mheight\u001b[0m \u001b[0;34m+\u001b[0m \u001b[0;34m\",\"\u001b[0m \u001b[0;34m+\u001b[0m \u001b[0mactivity\u001b[0m\u001b[0;34m.\u001b[0m\u001b[0mreplace\u001b[0m\u001b[0;34m(\u001b[0m\u001b[0;34m\",\"\u001b[0m\u001b[0;34m,\u001b[0m \u001b[0;34m\"|\"\u001b[0m\u001b[0;34m)\u001b[0m \u001b[0;34m+\u001b[0m \u001b[0;34m\",\"\u001b[0m \u001b[0;34m+\u001b[0m \u001b[0mrecommendation\u001b[0m \u001b[0;34m+\u001b[0m \u001b[0;34m\"\\n\"\u001b[0m\u001b[0;34m)\u001b[0m\u001b[0;34m\u001b[0m\u001b[0;34m\u001b[0m\u001b[0m\n\u001b[0m\u001b[1;32m     41\u001b[0m     \u001b[0mprint\u001b[0m\u001b[0;34m(\u001b[0m\u001b[0;34m\"Export successful.\"\u001b[0m\u001b[0;34m)\u001b[0m\u001b[0;34m\u001b[0m\u001b[0;34m\u001b[0m\u001b[0m\n\u001b[1;32m     42\u001b[0m \u001b[0mf\u001b[0m\u001b[0;34m.\u001b[0m\u001b[0mclose\u001b[0m\u001b[0;34m(\u001b[0m\u001b[0;34m)\u001b[0m\u001b[0;34m\u001b[0m\u001b[0;34m\u001b[0m\u001b[0m\n",
      "\u001b[0;31mValueError\u001b[0m: I/O operation on closed file."
     ]
    }
   ],
   "source": [
    "for container_two in containers_two:\n",
    "    \n",
    "    try:\n",
    "        name = container_two.header.div.strong.text\n",
    "    except:\n",
    "        name = \"N/A\"\n",
    "    \n",
    "    try:\n",
    "        verified_buyer_tag = container_two.header.div.p.text\n",
    "    except:\n",
    "        verified_buyer_tag = \" N/A\"\n",
    "    \n",
    "    try:\n",
    "        size = container_two.ul.li[\"data-size\"]\n",
    "    except:\n",
    "        size = \"N/A\"\n",
    "    \n",
    "    try:\n",
    "        height = container_two.findAll(\"li\", {\"class\" : \"height-field\"})[0].text\n",
    "    except:\n",
    "        height = \"N/A\"\n",
    "    \n",
    "    try:\n",
    "        activity = container_two.findAll(\"li\", {\"class\" : \"activity-field\"})[0].text\n",
    "    except:\n",
    "        activity = \"N/A\"\n",
    "        \n",
    "    try:\n",
    "        recommendation = container_two.findAll(\"li\", {\"class\" : \"recommendation-field\"})[0].text\n",
    "    except:\n",
    "        recommendation = \"N/A\"\n",
    "    \n",
    "    #print(\"name:\" + name)\n",
    "    #print(\"verified_buyer_tag:\" + verified_buyer_tag)\n",
    "    #print(\"size:\" + size)\n",
    "    #print(\"height:\" + height)\n",
    "    #print(\"activity:\" + activity)\n",
    "    #print(\"recommendation:\" + recommendation)\n",
    "\n",
    "    f.write(name + \",\" + verified_buyer_tag + \",\" + size + \",\" + height + \",\" + activity.replace(\",\", \"|\") + \",\" + recommendation + \"\\n\")\n",
    "    \n",
    "    print(\"Export successful.\")\n",
    "    \n",
    "f.close()"
   ]
  },
  {
   "cell_type": "code",
   "execution_count": null,
   "id": "seasonal-syntax",
   "metadata": {},
   "outputs": [],
   "source": []
  }
 ],
 "metadata": {
  "kernelspec": {
   "display_name": "Python 3",
   "language": "python",
   "name": "python3"
  },
  "language_info": {
   "codemirror_mode": {
    "name": "ipython",
    "version": 3
   },
   "file_extension": ".py",
   "mimetype": "text/x-python",
   "name": "python",
   "nbconvert_exporter": "python",
   "pygments_lexer": "ipython3",
   "version": "3.7.10"
  }
 },
 "nbformat": 4,
 "nbformat_minor": 5
}
